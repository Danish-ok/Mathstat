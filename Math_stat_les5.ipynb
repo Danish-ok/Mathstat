{
 "cells": [
  {
   "cell_type": "markdown",
   "metadata": {},
   "source": [
    "1) Известно, что генеральная совокупность распределена нормально со средним квадратическим отклонением, равным 16. Найти доверительный интервал для оценки математического ожидания с надежностью 0.95, если выборочная средняя M = 80, а объем выборки n = 256."
   ]
  },
  {
   "cell_type": "markdown",
   "metadata": {},
   "source": [
    "$\\sigma=16$<br>\n",
    "$\\overline{X}=M=80$<br>\n",
    "n=256<br>\n",
    "$\\alpha=5$<br>\n",
    "$\\overline{X}\\pm Z_{\\frac{\\alpha}{2}}\\frac{\\sigma}{\\sqrt{n}}=80\\pm (1.96\\frac{16}{16})$<br>\n",
    "$[\\,78.04;81.96]\\,$"
   ]
  },
  {
   "cell_type": "markdown",
   "metadata": {},
   "source": [
    "2) В результате 10 независимых измерений некоторой величины X, выполненных с одинаковой точностью, получены опытные данные: 6.9, 6.1, 6.2, 6.8, 7.5, 6.3, 6.4, 6.9, 6.7, 6.1 Предполагая, что результаты измерений подчинены нормальному закону распределения вероятностей, оценить истинное значение величины X при помощи доверительного интервала, покрывающего это значение с доверительной вероятностью 0,95."
   ]
  },
  {
   "cell_type": "markdown",
   "metadata": {},
   "source": [
    "Поскольку в задаче имеется выборка малого объема при неизвестном значении среднеквадратического отклонения, применим распределение Стьюдента.<br>\n",
    "$\\overline{X}\\pm t_{\\frac{\\alpha}{2}}\\frac{\\sigma}{\\sqrt{n}}$<br>\n",
    "n=10, $\\alpha=0.5, \\overline{X}$ - выборочное среднее."
   ]
  },
  {
   "cell_type": "code",
   "execution_count": 20,
   "metadata": {},
   "outputs": [
    {
     "data": {
      "text/plain": [
       "6.589999999999999"
      ]
     },
     "execution_count": 20,
     "metadata": {},
     "output_type": "execute_result"
    }
   ],
   "source": [
    "# Находим выборочное среднее как среднее арифметическое\n",
    "itm=[6.9, 6.1, 6.2, 6.8, 7.5, 6.3, 6.4, 6.9, 6.7, 6.1]\n",
    "mean=sum(itm)/len(itm)\n",
    "mean "
   ]
  },
  {
   "cell_type": "code",
   "execution_count": 11,
   "metadata": {},
   "outputs": [
    {
     "data": {
      "text/plain": [
       "0.4508017549014448"
      ]
     },
     "execution_count": 11,
     "metadata": {},
     "output_type": "execute_result"
    }
   ],
   "source": [
    "# Рассчитаем среднеквадратическое отклонение через несмещенную выборочную дисперсию\n",
    "S=(sum(list(map(lambda x:(x-mean)**2, itm)))/(len(itm)-1))**0.5\n",
    "S"
   ]
  },
  {
   "cell_type": "markdown",
   "metadata": {},
   "source": [
    "$\\sigma=0.45$<br>\n",
    "Величину $t_{\\alpha,n-1}=t_{0.025,9}$ находим по таблицам распределения Стьюдента. Она равна 2.262.<br>\n",
    "$\\overline{X}- t_{\\frac{\\alpha}{2}}\\frac{\\sigma}{\\sqrt{n}}=6.59-2.262\\frac{0.45}{\\sqrt{10}}=6.268$"
   ]
  },
  {
   "cell_type": "code",
   "execution_count": 12,
   "metadata": {},
   "outputs": [
    {
     "data": {
      "text/plain": [
       "6.268111756971461"
      ]
     },
     "execution_count": 12,
     "metadata": {},
     "output_type": "execute_result"
    }
   ],
   "source": [
    "6.59-2.262*0.45/10**0.5"
   ]
  },
  {
   "cell_type": "markdown",
   "metadata": {},
   "source": [
    "$\\overline{X}+ t_{\\frac{\\alpha}{2}}\\frac{\\sigma}{\\sqrt{n}}=6.59+2.262\\frac{0.45}{\\sqrt{10}}=6.912$"
   ]
  },
  {
   "cell_type": "code",
   "execution_count": 13,
   "metadata": {},
   "outputs": [
    {
     "data": {
      "text/plain": [
       "6.911888243028539"
      ]
     },
     "execution_count": 13,
     "metadata": {},
     "output_type": "execute_result"
    }
   ],
   "source": [
    "6.59+2.262*0.45/10**0.5"
   ]
  },
  {
   "cell_type": "raw",
   "metadata": {},
   "source": [
    "Ответ: истинное значение случайной величины лежит в доверительном интервале [6.268; 6.912] с доверительной вероятностью 0,95."
   ]
  },
  {
   "cell_type": "markdown",
   "metadata": {},
   "source": [
    "3) Утверждается, что шарики для подшипников, изготовленные автоматическим станком, имеют средний диаметр 17 мм. Используя односторонний критерий с α=0,05, проверить эту гипотезу, если в выборке из n=100 шариков средний диаметр\u000b",
    "оказался равным 17.5 мм, а дисперсия известна и равна 4 кв.мм."
   ]
  },
  {
   "cell_type": "markdown",
   "metadata": {},
   "source": [
    "H0: диаметр = 17 мм, µ =µ0<br>\n",
    "Н1: диаметр = 17.5 мм, µ >µ0<br>\n",
    "Критерий  Z –тест, дисперсия нам известна.<br>\n",
    "$Z_н=\\frac{\\overline{X}-\\mu_0}{\\frac{\\sigma}{\\sqrt{n}}}=\\frac{17.5-17}{2/10}=2.5$<br>\n",
    "$Z=1.645$<br>\n",
    "H1 верна при $\\alpha$=5%"
   ]
  },
  {
   "cell_type": "markdown",
   "metadata": {},
   "source": [
    "4) Продавец утверждает, что средний вес пачки печенья составляет 200 г. Из партии извлечена выборка из 10 пачек.\n",
    "Вес каждой пачки составляет:\n",
    "202, 203, 199, 197, 195, 201, 200, 204, 194, 190. Известно,\n",
    "что их веса распределены нормально.\n",
    "Верно ли утверждение продавца, если учитывать, что доверительная вероятность равна 99%?"
   ]
  },
  {
   "cell_type": "markdown",
   "metadata": {},
   "source": [
    "H0: µ =µ0<br>\n",
    "Н1: µ$\\ne$µ0<br>\n",
    "Критерий  t –тест, дисперсия нам не известна.<br>"
   ]
  },
  {
   "cell_type": "code",
   "execution_count": 16,
   "metadata": {},
   "outputs": [
    {
     "data": {
      "text/plain": [
       "198.5"
      ]
     },
     "execution_count": 16,
     "metadata": {},
     "output_type": "execute_result"
    }
   ],
   "source": [
    "# Находим выборочное среднее как среднее арифметическое\n",
    "itm2=[202, 203, 199, 197, 195, 201, 200, 204, 194, 190]\n",
    "mean2=sum(itm2)/len(itm2)\n",
    "mean2 "
   ]
  },
  {
   "cell_type": "code",
   "execution_count": 17,
   "metadata": {
    "scrolled": true
   },
   "outputs": [
    {
     "data": {
      "text/plain": [
       "4.453463071962462"
      ]
     },
     "execution_count": 17,
     "metadata": {},
     "output_type": "execute_result"
    }
   ],
   "source": [
    "# Рассчитаем среднеквадратическое отклонение через несмещенную выборочную дисперсию\n",
    "S2=(sum(list(map(lambda x:(x-mean2)**2, itm2)))/(len(itm2)-1))**0.5\n",
    "S2"
   ]
  },
  {
   "cell_type": "markdown",
   "metadata": {},
   "source": [
    "$\\sigma=4.45$<br>\n",
    "$\\overline{X}=198.5$<br>\n",
    "Величину $t_{\\alpha,n-1}=t_{0.005,9}$ находим по таблицам распределения Стьюдента. Она равна 3.25.<br>\n",
    "$t_н=\\frac{\\overline{X}-\\mu_0}{\\frac{\\sigma}{\\sqrt{n}}}=\\frac{198.5-200}{4.45/\\sqrt{10}}=-1.065$<br>\n",
    "$t=3.25$<br>"
   ]
  },
  {
   "cell_type": "code",
   "execution_count": 22,
   "metadata": {},
   "outputs": [
    {
     "data": {
      "text/plain": [
       "-1.0659362899443976"
      ]
     },
     "execution_count": 22,
     "metadata": {},
     "output_type": "execute_result"
    }
   ],
   "source": [
    "(198.5-200)/(4.45/(10**0.5))"
   ]
  },
  {
   "cell_type": "markdown",
   "metadata": {},
   "source": [
    "На этом этапе с трактовкой результатов возникли сложности, но после просмотра разбора все прояснилось.<br>\n",
    "H0 верна при $\\alpha$=1%"
   ]
  }
 ],
 "metadata": {
  "kernelspec": {
   "display_name": "Python 3",
   "language": "python",
   "name": "python3"
  },
  "language_info": {
   "codemirror_mode": {
    "name": "ipython",
    "version": 3
   },
   "file_extension": ".py",
   "mimetype": "text/x-python",
   "name": "python",
   "nbconvert_exporter": "python",
   "pygments_lexer": "ipython3",
   "version": "3.8.5"
  }
 },
 "nbformat": 4,
 "nbformat_minor": 4
}
